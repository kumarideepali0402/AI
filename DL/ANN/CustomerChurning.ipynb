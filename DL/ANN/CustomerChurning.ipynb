{
 "cells": [
  {
   "cell_type": "code",
   "execution_count": 212,
   "metadata": {
    "id": "SStAMR_lH8Nx"
   },
   "outputs": [],
   "source": [
    "# Import packasges numpy,pandas,standard scaler,model_selection,matplotlib,sklearn.preprocess labelencoder\n",
    "\n",
    "import numpy as np\n",
    "import pandas as pd\n",
    "from sklearn.preprocessing import StandardScaler\n",
    "from sklearn.model_selection import train_test_split\n",
    "import matplotlib.pyplot as plt\n",
    "from sklearn.preprocessing import LabelEncoder\n"
   ]
  },
  {
   "cell_type": "code",
   "execution_count": 213,
   "metadata": {
    "id": "7U6k0QlfIzOy"
   },
   "outputs": [],
   "source": [
    "# import data csv\n",
    "df=pd.read_csv(\"CustomerChurning.csv\")"
   ]
  },
  {
   "cell_type": "code",
   "execution_count": 214,
   "metadata": {
    "colab": {
     "base_uri": "https://localhost:8080/",
     "height": 226
    },
    "id": "sowcXb40I5Mw",
    "outputId": "285dbd5f-4995-4880-e5a3-40bd0c2ae62e"
   },
   "outputs": [
    {
     "data": {
      "text/html": [
       "<div>\n",
       "<style scoped>\n",
       "    .dataframe tbody tr th:only-of-type {\n",
       "        vertical-align: middle;\n",
       "    }\n",
       "\n",
       "    .dataframe tbody tr th {\n",
       "        vertical-align: top;\n",
       "    }\n",
       "\n",
       "    .dataframe thead th {\n",
       "        text-align: right;\n",
       "    }\n",
       "</style>\n",
       "<table border=\"1\" class=\"dataframe\">\n",
       "  <thead>\n",
       "    <tr style=\"text-align: right;\">\n",
       "      <th></th>\n",
       "      <th>RowNumber</th>\n",
       "      <th>CustomerId</th>\n",
       "      <th>Surname</th>\n",
       "      <th>CreditScore</th>\n",
       "      <th>Geography</th>\n",
       "      <th>Gender</th>\n",
       "      <th>Age</th>\n",
       "      <th>Tenure</th>\n",
       "      <th>Balance</th>\n",
       "      <th>NumOfProducts</th>\n",
       "      <th>HasCrCard</th>\n",
       "      <th>IsActiveMember</th>\n",
       "      <th>EstimatedSalary</th>\n",
       "      <th>Exited</th>\n",
       "    </tr>\n",
       "  </thead>\n",
       "  <tbody>\n",
       "    <tr>\n",
       "      <th>0</th>\n",
       "      <td>1</td>\n",
       "      <td>15634602</td>\n",
       "      <td>Hargrave</td>\n",
       "      <td>619</td>\n",
       "      <td>France</td>\n",
       "      <td>Female</td>\n",
       "      <td>42</td>\n",
       "      <td>2</td>\n",
       "      <td>0.00</td>\n",
       "      <td>1</td>\n",
       "      <td>1</td>\n",
       "      <td>1</td>\n",
       "      <td>101348.88</td>\n",
       "      <td>1</td>\n",
       "    </tr>\n",
       "    <tr>\n",
       "      <th>1</th>\n",
       "      <td>2</td>\n",
       "      <td>15647311</td>\n",
       "      <td>Hill</td>\n",
       "      <td>608</td>\n",
       "      <td>Spain</td>\n",
       "      <td>Female</td>\n",
       "      <td>41</td>\n",
       "      <td>1</td>\n",
       "      <td>83807.86</td>\n",
       "      <td>1</td>\n",
       "      <td>0</td>\n",
       "      <td>1</td>\n",
       "      <td>112542.58</td>\n",
       "      <td>0</td>\n",
       "    </tr>\n",
       "    <tr>\n",
       "      <th>2</th>\n",
       "      <td>3</td>\n",
       "      <td>15619304</td>\n",
       "      <td>Onio</td>\n",
       "      <td>502</td>\n",
       "      <td>France</td>\n",
       "      <td>Female</td>\n",
       "      <td>42</td>\n",
       "      <td>8</td>\n",
       "      <td>159660.80</td>\n",
       "      <td>3</td>\n",
       "      <td>1</td>\n",
       "      <td>0</td>\n",
       "      <td>113931.57</td>\n",
       "      <td>1</td>\n",
       "    </tr>\n",
       "    <tr>\n",
       "      <th>3</th>\n",
       "      <td>4</td>\n",
       "      <td>15701354</td>\n",
       "      <td>Boni</td>\n",
       "      <td>699</td>\n",
       "      <td>France</td>\n",
       "      <td>Female</td>\n",
       "      <td>39</td>\n",
       "      <td>1</td>\n",
       "      <td>0.00</td>\n",
       "      <td>2</td>\n",
       "      <td>0</td>\n",
       "      <td>0</td>\n",
       "      <td>93826.63</td>\n",
       "      <td>0</td>\n",
       "    </tr>\n",
       "    <tr>\n",
       "      <th>4</th>\n",
       "      <td>5</td>\n",
       "      <td>15737888</td>\n",
       "      <td>Mitchell</td>\n",
       "      <td>850</td>\n",
       "      <td>Spain</td>\n",
       "      <td>Female</td>\n",
       "      <td>43</td>\n",
       "      <td>2</td>\n",
       "      <td>125510.82</td>\n",
       "      <td>1</td>\n",
       "      <td>1</td>\n",
       "      <td>1</td>\n",
       "      <td>79084.10</td>\n",
       "      <td>0</td>\n",
       "    </tr>\n",
       "  </tbody>\n",
       "</table>\n",
       "</div>"
      ],
      "text/plain": [
       "   RowNumber  CustomerId   Surname  CreditScore Geography  Gender  Age  \\\n",
       "0          1    15634602  Hargrave          619    France  Female   42   \n",
       "1          2    15647311      Hill          608     Spain  Female   41   \n",
       "2          3    15619304      Onio          502    France  Female   42   \n",
       "3          4    15701354      Boni          699    France  Female   39   \n",
       "4          5    15737888  Mitchell          850     Spain  Female   43   \n",
       "\n",
       "   Tenure    Balance  NumOfProducts  HasCrCard  IsActiveMember  \\\n",
       "0       2       0.00              1          1               1   \n",
       "1       1   83807.86              1          0               1   \n",
       "2       8  159660.80              3          1               0   \n",
       "3       1       0.00              2          0               0   \n",
       "4       2  125510.82              1          1               1   \n",
       "\n",
       "   EstimatedSalary  Exited  \n",
       "0        101348.88       1  \n",
       "1        112542.58       0  \n",
       "2        113931.57       1  \n",
       "3         93826.63       0  \n",
       "4         79084.10       0  "
      ]
     },
     "execution_count": 214,
     "metadata": {},
     "output_type": "execute_result"
    }
   ],
   "source": [
    "df.head()"
   ]
  },
  {
   "cell_type": "code",
   "execution_count": 215,
   "metadata": {
    "colab": {
     "base_uri": "https://localhost:8080/",
     "height": 206
    },
    "id": "YmgjI-McI68G",
    "outputId": "bb0415df-2eb0-4190-ec1a-0f45f7320811"
   },
   "outputs": [
    {
     "data": {
      "text/html": [
       "<div>\n",
       "<style scoped>\n",
       "    .dataframe tbody tr th:only-of-type {\n",
       "        vertical-align: middle;\n",
       "    }\n",
       "\n",
       "    .dataframe tbody tr th {\n",
       "        vertical-align: top;\n",
       "    }\n",
       "\n",
       "    .dataframe thead th {\n",
       "        text-align: right;\n",
       "    }\n",
       "</style>\n",
       "<table border=\"1\" class=\"dataframe\">\n",
       "  <thead>\n",
       "    <tr style=\"text-align: right;\">\n",
       "      <th></th>\n",
       "      <th>CreditScore</th>\n",
       "      <th>Geography</th>\n",
       "      <th>Gender</th>\n",
       "      <th>Age</th>\n",
       "      <th>Tenure</th>\n",
       "      <th>Balance</th>\n",
       "      <th>NumOfProducts</th>\n",
       "      <th>HasCrCard</th>\n",
       "      <th>IsActiveMember</th>\n",
       "      <th>EstimatedSalary</th>\n",
       "      <th>Exited</th>\n",
       "    </tr>\n",
       "  </thead>\n",
       "  <tbody>\n",
       "    <tr>\n",
       "      <th>0</th>\n",
       "      <td>619</td>\n",
       "      <td>France</td>\n",
       "      <td>Female</td>\n",
       "      <td>42</td>\n",
       "      <td>2</td>\n",
       "      <td>0.00</td>\n",
       "      <td>1</td>\n",
       "      <td>1</td>\n",
       "      <td>1</td>\n",
       "      <td>101348.88</td>\n",
       "      <td>1</td>\n",
       "    </tr>\n",
       "    <tr>\n",
       "      <th>1</th>\n",
       "      <td>608</td>\n",
       "      <td>Spain</td>\n",
       "      <td>Female</td>\n",
       "      <td>41</td>\n",
       "      <td>1</td>\n",
       "      <td>83807.86</td>\n",
       "      <td>1</td>\n",
       "      <td>0</td>\n",
       "      <td>1</td>\n",
       "      <td>112542.58</td>\n",
       "      <td>0</td>\n",
       "    </tr>\n",
       "    <tr>\n",
       "      <th>2</th>\n",
       "      <td>502</td>\n",
       "      <td>France</td>\n",
       "      <td>Female</td>\n",
       "      <td>42</td>\n",
       "      <td>8</td>\n",
       "      <td>159660.80</td>\n",
       "      <td>3</td>\n",
       "      <td>1</td>\n",
       "      <td>0</td>\n",
       "      <td>113931.57</td>\n",
       "      <td>1</td>\n",
       "    </tr>\n",
       "    <tr>\n",
       "      <th>3</th>\n",
       "      <td>699</td>\n",
       "      <td>France</td>\n",
       "      <td>Female</td>\n",
       "      <td>39</td>\n",
       "      <td>1</td>\n",
       "      <td>0.00</td>\n",
       "      <td>2</td>\n",
       "      <td>0</td>\n",
       "      <td>0</td>\n",
       "      <td>93826.63</td>\n",
       "      <td>0</td>\n",
       "    </tr>\n",
       "    <tr>\n",
       "      <th>4</th>\n",
       "      <td>850</td>\n",
       "      <td>Spain</td>\n",
       "      <td>Female</td>\n",
       "      <td>43</td>\n",
       "      <td>2</td>\n",
       "      <td>125510.82</td>\n",
       "      <td>1</td>\n",
       "      <td>1</td>\n",
       "      <td>1</td>\n",
       "      <td>79084.10</td>\n",
       "      <td>0</td>\n",
       "    </tr>\n",
       "  </tbody>\n",
       "</table>\n",
       "</div>"
      ],
      "text/plain": [
       "   CreditScore Geography  Gender  Age  Tenure    Balance  NumOfProducts  \\\n",
       "0          619    France  Female   42       2       0.00              1   \n",
       "1          608     Spain  Female   41       1   83807.86              1   \n",
       "2          502    France  Female   42       8  159660.80              3   \n",
       "3          699    France  Female   39       1       0.00              2   \n",
       "4          850     Spain  Female   43       2  125510.82              1   \n",
       "\n",
       "   HasCrCard  IsActiveMember  EstimatedSalary  Exited  \n",
       "0          1               1        101348.88       1  \n",
       "1          0               1        112542.58       0  \n",
       "2          1               0        113931.57       1  \n",
       "3          0               0         93826.63       0  \n",
       "4          1               1         79084.10       0  "
      ]
     },
     "execution_count": 215,
     "metadata": {},
     "output_type": "execute_result"
    }
   ],
   "source": [
    "# drop irrelevant columns                                                                                                df.drop(lbls=[3],axs=1)\n",
    "\n",
    "df=df.drop(labels=[\"RowNumber\",\"CustomerId\",\"Surname\"],axis=1)\n",
    "df.head()"
   ]
  },
  {
   "cell_type": "code",
   "execution_count": null,
   "metadata": {
    "id": "W-BcY9NBZENn"
   },
   "outputs": [],
   "source": []
  },
  {
   "cell_type": "code",
   "execution_count": 216,
   "metadata": {
    "colab": {
     "base_uri": "https://localhost:8080/",
     "height": 206
    },
    "id": "CTiIinOOJLJW",
    "outputId": "088a5306-1a94-4ccc-f872-583c76b45c9c"
   },
   "outputs": [
    {
     "data": {
      "text/html": [
       "<div>\n",
       "<style scoped>\n",
       "    .dataframe tbody tr th:only-of-type {\n",
       "        vertical-align: middle;\n",
       "    }\n",
       "\n",
       "    .dataframe tbody tr th {\n",
       "        vertical-align: top;\n",
       "    }\n",
       "\n",
       "    .dataframe thead th {\n",
       "        text-align: right;\n",
       "    }\n",
       "</style>\n",
       "<table border=\"1\" class=\"dataframe\">\n",
       "  <thead>\n",
       "    <tr style=\"text-align: right;\">\n",
       "      <th></th>\n",
       "      <th>CreditScore</th>\n",
       "      <th>Geography</th>\n",
       "      <th>Gender</th>\n",
       "      <th>Age</th>\n",
       "      <th>Tenure</th>\n",
       "      <th>Balance</th>\n",
       "      <th>NumOfProducts</th>\n",
       "      <th>HasCrCard</th>\n",
       "      <th>IsActiveMember</th>\n",
       "      <th>EstimatedSalary</th>\n",
       "      <th>Exited</th>\n",
       "    </tr>\n",
       "  </thead>\n",
       "  <tbody>\n",
       "    <tr>\n",
       "      <th>0</th>\n",
       "      <td>619</td>\n",
       "      <td>0</td>\n",
       "      <td>0</td>\n",
       "      <td>42</td>\n",
       "      <td>2</td>\n",
       "      <td>0.00</td>\n",
       "      <td>1</td>\n",
       "      <td>1</td>\n",
       "      <td>1</td>\n",
       "      <td>101348.88</td>\n",
       "      <td>1</td>\n",
       "    </tr>\n",
       "    <tr>\n",
       "      <th>1</th>\n",
       "      <td>608</td>\n",
       "      <td>2</td>\n",
       "      <td>0</td>\n",
       "      <td>41</td>\n",
       "      <td>1</td>\n",
       "      <td>83807.86</td>\n",
       "      <td>1</td>\n",
       "      <td>0</td>\n",
       "      <td>1</td>\n",
       "      <td>112542.58</td>\n",
       "      <td>0</td>\n",
       "    </tr>\n",
       "    <tr>\n",
       "      <th>2</th>\n",
       "      <td>502</td>\n",
       "      <td>0</td>\n",
       "      <td>0</td>\n",
       "      <td>42</td>\n",
       "      <td>8</td>\n",
       "      <td>159660.80</td>\n",
       "      <td>3</td>\n",
       "      <td>1</td>\n",
       "      <td>0</td>\n",
       "      <td>113931.57</td>\n",
       "      <td>1</td>\n",
       "    </tr>\n",
       "    <tr>\n",
       "      <th>3</th>\n",
       "      <td>699</td>\n",
       "      <td>0</td>\n",
       "      <td>0</td>\n",
       "      <td>39</td>\n",
       "      <td>1</td>\n",
       "      <td>0.00</td>\n",
       "      <td>2</td>\n",
       "      <td>0</td>\n",
       "      <td>0</td>\n",
       "      <td>93826.63</td>\n",
       "      <td>0</td>\n",
       "    </tr>\n",
       "    <tr>\n",
       "      <th>4</th>\n",
       "      <td>850</td>\n",
       "      <td>2</td>\n",
       "      <td>0</td>\n",
       "      <td>43</td>\n",
       "      <td>2</td>\n",
       "      <td>125510.82</td>\n",
       "      <td>1</td>\n",
       "      <td>1</td>\n",
       "      <td>1</td>\n",
       "      <td>79084.10</td>\n",
       "      <td>0</td>\n",
       "    </tr>\n",
       "  </tbody>\n",
       "</table>\n",
       "</div>"
      ],
      "text/plain": [
       "   CreditScore  Geography  Gender  Age  Tenure    Balance  NumOfProducts  \\\n",
       "0          619          0       0   42       2       0.00              1   \n",
       "1          608          2       0   41       1   83807.86              1   \n",
       "2          502          0       0   42       8  159660.80              3   \n",
       "3          699          0       0   39       1       0.00              2   \n",
       "4          850          2       0   43       2  125510.82              1   \n",
       "\n",
       "   HasCrCard  IsActiveMember  EstimatedSalary  Exited  \n",
       "0          1               1        101348.88       1  \n",
       "1          0               1        112542.58       0  \n",
       "2          1               0        113931.57       1  \n",
       "3          0               0         93826.63       0  \n",
       "4          1               1         79084.10       0  "
      ]
     },
     "execution_count": 216,
     "metadata": {},
     "output_type": "execute_result"
    }
   ],
   "source": [
    "# Label encoding of geo,gender                                                                                    \n",
    "\n",
    "encode=LabelEncoder()\n",
    "df[\"Geography\"]=encode.fit_transform(df[\"Geography\"])\n",
    "df[\"Gender\"]=encode.fit_transform(df[\"Gender\"])\n",
    "df.head()\n"
   ]
  },
  {
   "cell_type": "code",
   "execution_count": 217,
   "metadata": {
    "id": "vwzFXbJuKOPq"
   },
   "outputs": [],
   "source": [
    "# dependent and independent variable                                                                                     \n",
    "x=df.drop(labels=[\"Exited\"],axis=1)\n",
    "y=df[\"Exited\"]\n"
   ]
  },
  {
   "cell_type": "code",
   "execution_count": 218,
   "metadata": {
    "id": "ef01fC9OKduf"
   },
   "outputs": [],
   "source": [
    "# Stnd Scaler                                                                                                                     sc=SS() x=sc.f_t()\n",
    "\n",
    "ss=StandardScaler()\n",
    "x=ss.fit_transform(x)\n",
    "\n"
   ]
  },
  {
   "cell_type": "code",
   "execution_count": 219,
   "metadata": {
    "id": "T36QITERK7Rq"
   },
   "outputs": [],
   "source": [
    "# split train and test\n",
    "\n",
    "x_train,x_test,y_train,y_test=train_test_split(x,y,test_size=0.2,random_state=0)"
   ]
  },
  {
   "cell_type": "code",
   "execution_count": 220,
   "metadata": {
    "colab": {
     "base_uri": "https://localhost:8080/"
    },
    "id": "LDa2iyBCLC5a",
    "outputId": "8594d6d3-00f0-4239-e37a-42e4919ce684"
   },
   "outputs": [
    {
     "data": {
      "text/plain": [
       "((8000, 10), (2000, 10), (8000,), (2000,))"
      ]
     },
     "execution_count": 220,
     "metadata": {},
     "output_type": "execute_result"
    }
   ],
   "source": [
    "#check shape  n*m not m*n\n",
    "x_train.shape,x_test.shape,y_train.shape,y_test.shape"
   ]
  },
  {
   "cell_type": "code",
   "execution_count": 221,
   "metadata": {
    "id": "wOZTCHl5LIbH"
   },
   "outputs": [],
   "source": [
    "#Transpose x_train and x_test                                                                                                            xt=xt.T\n",
    "\n",
    "x_train=x_train.T\n",
    "x_test=x_test.T\n"
   ]
  },
  {
   "cell_type": "code",
   "execution_count": 222,
   "metadata": {
    "colab": {
     "base_uri": "https://localhost:8080/"
    },
    "id": "1-IHojryZ3_T",
    "outputId": "125bc869-d9f1-4321-ef3c-18c3488f4e17"
   },
   "outputs": [
    {
     "data": {
      "text/plain": [
       "((10, 8000), (10, 2000))"
      ]
     },
     "execution_count": 222,
     "metadata": {},
     "output_type": "execute_result"
    }
   ],
   "source": [
    "x_train.shape,x_test.shape"
   ]
  },
  {
   "cell_type": "code",
   "execution_count": 223,
   "metadata": {
    "id": "HhcHnua1LQoB"
   },
   "outputs": [],
   "source": [
    "# Reshape Y_train and Y_test                                                                                                     yt=yt.vls.rsp(-2,2)\n",
    "\n",
    "y_train=y_train.values.reshape(1,-1)\n",
    "y_test=y_test.values.reshape(1,-1)"
   ]
  },
  {
   "cell_type": "code",
   "execution_count": 224,
   "metadata": {
    "id": "Ye6V87KLLeuD"
   },
   "outputs": [],
   "source": [
    "# Transpose yt\n",
    "y_train=y_train.T\n",
    "y_test=y_test.T\n"
   ]
  },
  {
   "cell_type": "code",
   "execution_count": 225,
   "metadata": {
    "colab": {
     "base_uri": "https://localhost:8080/"
    },
    "id": "G0KxZcpyLlwH",
    "outputId": "fec6fb7c-9316-4048-af15-3a20e94f5b4c"
   },
   "outputs": [
    {
     "data": {
      "text/plain": [
       "((8000, 1), (2000, 1))"
      ]
     },
     "execution_count": 225,
     "metadata": {},
     "output_type": "execute_result"
    }
   ],
   "source": [
    "#check shape  n*m not m*n\n",
    "\n",
    "y_train.shape,y_test.shape"
   ]
  },
  {
   "cell_type": "code",
   "execution_count": 226,
   "metadata": {
    "id": "4Xk8QfaLLniK"
   },
   "outputs": [],
   "source": [
    "# def activation functions \n",
    "def tanh(x):\n",
    "  return np.tanh(x)\n",
    "\n",
    "def relu(x):\n",
    "  return np.maximum(0,x)\n",
    "\n",
    "def sigmoid(x):\n",
    "  return 1/(1+np.exp(-x))\n",
    "\n"
   ]
  },
  {
   "cell_type": "code",
   "execution_count": 227,
   "metadata": {
    "id": "EBzYManlOLqF"
   },
   "outputs": [],
   "source": [
    "# derivative of activation  \n",
    "\n",
    "def derivative_tanh(x):\n",
    "  return 1-np.tanh(x)**2\n",
    "\n",
    "def derivative_relu(x):\n",
    "  x[x<=0]=0\n",
    "  x[x>0]=1\n",
    "  return x\n",
    "\n",
    "def derivative_sigmoid(x):\n",
    "  return sigmoid(x)*(1-sigmoid(x))\n",
    "\n"
   ]
  },
  {
   "cell_type": "code",
   "execution_count": 228,
   "metadata": {
    "id": "J8AE8bOqO3QM"
   },
   "outputs": [],
   "source": [
    "\n",
    "# Initialise Parameter                                                                                           \n",
    "def initialise_parameters(n_x,n_h,n_y):\n",
    "  w1=np.random.randn(n_h,n_x)  #(n1,n0)\n",
    "  b1=np.random.randn(n_h,1)\n",
    "\n",
    "  w2=np.random.randn(n_y,n_h)\n",
    "  b2=np.random.randn(n_y,1)\n",
    "\n",
    "  parameters={\"w1\":w1,\"b1\":b1,\"w2\":w2,\"b2\":b2}\n",
    "  return parameters\n"
   ]
  },
  {
   "cell_type": "code",
   "execution_count": 229,
   "metadata": {
    "id": "VuFtDeDfP7Mj"
   },
   "outputs": [],
   "source": [
    "#frwrd propogation\n",
    "def forward_propogation(x,parameters):\n",
    "  w1=parameters[\"w1\"]\n",
    "  b1=parameters[\"b1\"]\n",
    "  w2=parameters[\"w2\"]\n",
    "  b2=parameters[\"b2\"]\n",
    "\n",
    "  z1=np.dot(w1,x)+b1\n",
    "  a1=relu(z1)\n",
    "  z2=np.dot(w2,a1)+b2\n",
    "  a2=sigmoid(z2)\n",
    "  forward_cache={\n",
    "      \"z1\":z1,\n",
    "      \"a1\":a1,\n",
    "      \"z2\":z2,\n",
    "      \"a2\":a2\n",
    "  }\n",
    "  return forward_cache\n",
    "\n"
   ]
  },
  {
   "cell_type": "code",
   "execution_count": 230,
   "metadata": {
    "id": "iq76hp2cQ8Vx"
   },
   "outputs": [],
   "source": [
    "# cost function                                                                                             \n",
    "def binary_cross_entropy(a2,y):\n",
    "  m=y.shape[1]\n",
    "  cost=-(1/m)*np.sum(y*np.log(a2)+(1-y)*np.log(1-a2))\n",
    "  return cost\n"
   ]
  },
  {
   "cell_type": "code",
   "execution_count": 231,
   "metadata": {
    "id": "PsKwvgnYQ8SV"
   },
   "outputs": [],
   "source": [
    "# Back propogation                                                                                             "
   ]
  },
  {
   "cell_type": "code",
   "execution_count": 232,
   "metadata": {
    "id": "Gr5czOKBSn1M"
   },
   "outputs": [],
   "source": [
    "def back_propogation(parameters,forward_cache,x,y):\n",
    "\n",
    "  w1=parameters[\"w1\"]\n",
    "  b1=parameters[\"b1\"]\n",
    "  w2=parameters[\"w2\"]\n",
    "  b2=parameters[\"b2\"]\n",
    "\n",
    "  a1=forward_cache[\"a1\"]\n",
    "  a2=forward_cache[\"a2\"]\n",
    "\n",
    "  m=x.shape[1]\n",
    "\n",
    "  dz2=a2-y\n",
    "  dw2=np.dot(dz2,a1.T)/m\n",
    "  db2=np.sum(dz2,axis=1,keepdims=True)/m\n",
    "  dz1=np.dot(w2.T,dz2)*derivative_relu(a1)\n",
    "  dw1=np.dot(dz1,x.T)/m\n",
    "  db1=np.sum(dz1,axis=1,keepdims=True)/m\n",
    "\n",
    "  grads={\n",
    "      \"dw1\":dw1,\n",
    "      \"db1\":db1,\n",
    "      \"dw2\":dw2,\n",
    "      \"db2\":db2\n",
    "  }\n",
    "  return grads\n",
    "\n"
   ]
  },
  {
   "cell_type": "code",
   "execution_count": 233,
   "metadata": {
    "colab": {
     "base_uri": "https://localhost:8080/"
    },
    "id": "ZpRy8RwlS8FL",
    "outputId": "43cec2e8-d751-42a3-b05e-118a1d77c224"
   },
   "outputs": [
    {
     "data": {
      "text/plain": [
       "array([[ 6],\n",
       "       [15],\n",
       "       [24]])"
      ]
     },
     "execution_count": 233,
     "metadata": {},
     "output_type": "execute_result"
    }
   ],
   "source": [
    "a=np.array([[1,2,3],[4,5,6],[7,8,9]])\n",
    "#np.sum(a,axis=1,keepdims=True)\n",
    "\n",
    "np.sum(a,axis=1,keepdims=True)"
   ]
  },
  {
   "cell_type": "code",
   "execution_count": 234,
   "metadata": {
    "id": "iS0sCLDQW8WP"
   },
   "outputs": [],
   "source": [
    "def update_parameters(parameters,grads,learning_rate):\n",
    "    w1=parameters[\"w1\"]\n",
    "    b1=parameters[\"b1\"]\n",
    "    w2=parameters[\"w2\"]\n",
    "    b2=parameters[\"b2\"]\n",
    "\n",
    "    dw1=grads[\"dw1\"]\n",
    "    db1=grads[\"db1\"]\n",
    "    dw2=grads[\"dw2\"]\n",
    "    db2=grads[\"db2\"]\n",
    "\n",
    "\n",
    "    w1 = w1 - learning_rate*dw1\n",
    "    b1 = b1 - learning_rate*db1\n",
    "    w2 = w2 - learning_rate*dw2\n",
    "    b2 = b2 - learning_rate*db2\n",
    "\n",
    "\n",
    "    parameters={\"w1\":w1,\"b1\":b1,\"b2\":b2,\"w2\":w2}\n",
    "    return parameters"
   ]
  },
  {
   "cell_type": "code",
   "execution_count": 235,
   "metadata": {
    "id": "dKPWlCzWgUvz"
   },
   "outputs": [],
   "source": [
    "# COmplete the model\n",
    "def model(x,y,n_h,learning_rate,iterations) :\n",
    "    n_x = x.shape[0]\n",
    "    n_y = y.shape[0]\n",
    "    cost_list = []\n",
    "    parameters = initialise_parameters(n_x,n_h,n_y)\n",
    "\n",
    "    for i in range(iterations):\n",
    "        forward_cache=forward_propogation(x,parameters)\n",
    "        cost =binary_cross_entropy(forward_cache[\"a2\"], y)\n",
    "        grads=back_propogation(parameters,forward_cache,x,y)\n",
    "        parameters=update_parameters(parameters,grads,learning_rate)\n",
    "        cost_list.append(cost)\n",
    "\n",
    "        if(i%10 ==0):\n",
    "            print(\"cost,after iteration :%i :%f\" %(i,cost))\n",
    "    return parameters,cost_list\n"
   ]
  },
  {
   "cell_type": "code",
   "execution_count": 236,
   "metadata": {},
   "outputs": [
    {
     "name": "stderr",
     "output_type": "stream",
     "text": [
      "C:\\Users\\deepa\\AppData\\Local\\Temp\\ipykernel_28904\\688214290.py:4: RuntimeWarning: divide by zero encountered in log\n",
      "  cost=-(1/m)*np.sum(y*np.log(a2)+(1-y)*np.log(1-a2))\n",
      "C:\\Users\\deepa\\AppData\\Local\\Temp\\ipykernel_28904\\688214290.py:4: RuntimeWarning: invalid value encountered in multiply\n",
      "  cost=-(1/m)*np.sum(y*np.log(a2)+(1-y)*np.log(1-a2))\n"
     ]
    },
    {
     "name": "stdout",
     "output_type": "stream",
     "text": [
      "cost,after iteration :0 :nan\n"
     ]
    },
    {
     "name": "stderr",
     "output_type": "stream",
     "text": [
      "C:\\Users\\deepa\\AppData\\Local\\Temp\\ipykernel_28904\\1847402832.py:9: RuntimeWarning: overflow encountered in exp\n",
      "  return 1/(1+np.exp(-x))\n"
     ]
    },
    {
     "ename": "KeyboardInterrupt",
     "evalue": "",
     "output_type": "error",
     "traceback": [
      "\u001b[1;31m---------------------------------------------------------------------------\u001b[0m",
      "\u001b[1;31mKeyboardInterrupt\u001b[0m                         Traceback (most recent call last)",
      "Cell \u001b[1;32mIn[236], line 5\u001b[0m\n\u001b[0;32m      2\u001b[0m iterations \u001b[38;5;241m=\u001b[39m \u001b[38;5;241m100\u001b[39m\n\u001b[0;32m      3\u001b[0m n_h \u001b[38;5;241m=\u001b[39m \u001b[38;5;241m20\u001b[39m\n\u001b[1;32m----> 5\u001b[0m parameters,cost_list\u001b[38;5;241m=\u001b[39mmodel(x_train,y_train,n_h,\u001b[38;5;241m0.1\u001b[39m,iterations)\n",
      "Cell \u001b[1;32mIn[235], line 10\u001b[0m, in \u001b[0;36mmodel\u001b[1;34m(x, y, n_h, learning_rate, iterations)\u001b[0m\n\u001b[0;32m      8\u001b[0m \u001b[38;5;28;01mfor\u001b[39;00m i \u001b[38;5;129;01min\u001b[39;00m \u001b[38;5;28mrange\u001b[39m(iterations):\n\u001b[0;32m      9\u001b[0m     forward_cache\u001b[38;5;241m=\u001b[39mforward_propogation(x,parameters)\n\u001b[1;32m---> 10\u001b[0m     cost \u001b[38;5;241m=\u001b[39mbinary_cross_entropy(forward_cache[\u001b[38;5;124m\"\u001b[39m\u001b[38;5;124ma2\u001b[39m\u001b[38;5;124m\"\u001b[39m], y)\n\u001b[0;32m     11\u001b[0m     grads\u001b[38;5;241m=\u001b[39mback_propogation(parameters,forward_cache,x,y)\n\u001b[0;32m     12\u001b[0m     parameters\u001b[38;5;241m=\u001b[39mupdate_parameters(parameters,grads,learning_rate)\n",
      "Cell \u001b[1;32mIn[230], line 4\u001b[0m, in \u001b[0;36mbinary_cross_entropy\u001b[1;34m(a2, y)\u001b[0m\n\u001b[0;32m      2\u001b[0m \u001b[38;5;28;01mdef\u001b[39;00m \u001b[38;5;21mbinary_cross_entropy\u001b[39m(a2,y):\n\u001b[0;32m      3\u001b[0m   m\u001b[38;5;241m=\u001b[39my\u001b[38;5;241m.\u001b[39mshape[\u001b[38;5;241m1\u001b[39m]\n\u001b[1;32m----> 4\u001b[0m   cost\u001b[38;5;241m=\u001b[39m\u001b[38;5;241m-\u001b[39m(\u001b[38;5;241m1\u001b[39m\u001b[38;5;241m/\u001b[39mm)\u001b[38;5;241m*\u001b[39mnp\u001b[38;5;241m.\u001b[39msum(y\u001b[38;5;241m*\u001b[39mnp\u001b[38;5;241m.\u001b[39mlog(a2)\u001b[38;5;241m+\u001b[39m(\u001b[38;5;241m1\u001b[39m\u001b[38;5;241m-\u001b[39my)\u001b[38;5;241m*\u001b[39mnp\u001b[38;5;241m.\u001b[39mlog(\u001b[38;5;241m1\u001b[39m\u001b[38;5;241m-\u001b[39ma2))\n\u001b[0;32m      5\u001b[0m   \u001b[38;5;28;01mreturn\u001b[39;00m cost\n",
      "File \u001b[1;32mc:\\Users\\deepa\\OneDrive\\Documents\\ananconda-new2\\Lib\\site-packages\\numpy\\core\\fromnumeric.py:2313\u001b[0m, in \u001b[0;36msum\u001b[1;34m(a, axis, dtype, out, keepdims, initial, where)\u001b[0m\n\u001b[0;32m   2310\u001b[0m         \u001b[38;5;28;01mreturn\u001b[39;00m out\n\u001b[0;32m   2311\u001b[0m     \u001b[38;5;28;01mreturn\u001b[39;00m res\n\u001b[1;32m-> 2313\u001b[0m \u001b[38;5;28;01mreturn\u001b[39;00m _wrapreduction(a, np\u001b[38;5;241m.\u001b[39madd, \u001b[38;5;124m'\u001b[39m\u001b[38;5;124msum\u001b[39m\u001b[38;5;124m'\u001b[39m, axis, dtype, out, keepdims\u001b[38;5;241m=\u001b[39mkeepdims,\n\u001b[0;32m   2314\u001b[0m                       initial\u001b[38;5;241m=\u001b[39minitial, where\u001b[38;5;241m=\u001b[39mwhere)\n",
      "File \u001b[1;32mc:\\Users\\deepa\\OneDrive\\Documents\\ananconda-new2\\Lib\\site-packages\\numpy\\core\\fromnumeric.py:88\u001b[0m, in \u001b[0;36m_wrapreduction\u001b[1;34m(obj, ufunc, method, axis, dtype, out, **kwargs)\u001b[0m\n\u001b[0;32m     85\u001b[0m         \u001b[38;5;28;01melse\u001b[39;00m:\n\u001b[0;32m     86\u001b[0m             \u001b[38;5;28;01mreturn\u001b[39;00m reduction(axis\u001b[38;5;241m=\u001b[39maxis, out\u001b[38;5;241m=\u001b[39mout, \u001b[38;5;241m*\u001b[39m\u001b[38;5;241m*\u001b[39mpasskwargs)\n\u001b[1;32m---> 88\u001b[0m \u001b[38;5;28;01mreturn\u001b[39;00m ufunc\u001b[38;5;241m.\u001b[39mreduce(obj, axis, dtype, out, \u001b[38;5;241m*\u001b[39m\u001b[38;5;241m*\u001b[39mpasskwargs)\n",
      "\u001b[1;31mKeyboardInterrupt\u001b[0m: "
     ]
    }
   ],
   "source": [
    "#Train the model\n",
    "iterations = 100\n",
    "n_h = 20\n",
    "\n",
    "parameters,cost_list=model(x_train,y_train,n_h,0.1,iterations)"
   ]
  },
  {
   "cell_type": "code",
   "execution_count": null,
   "metadata": {},
   "outputs": [],
   "source": [
    "def accuracy(x,y,parameters):\n",
    "    forward_cache = forward_propogation(x,parameters)\n",
    "    y_pred = forward_cache[\"a2\"] >= 0.5\n",
    "    acc=(y_pred == y).mean()\n",
    "    return accuracy"
   ]
  }
 ],
 "metadata": {
  "colab": {
   "provenance": []
  },
  "kernelspec": {
   "display_name": "Python 3",
   "language": "python",
   "name": "python3"
  },
  "language_info": {
   "codemirror_mode": {
    "name": "ipython",
    "version": 3
   },
   "file_extension": ".py",
   "mimetype": "text/x-python",
   "name": "python",
   "nbconvert_exporter": "python",
   "pygments_lexer": "ipython3",
   "version": "3.12.7"
  }
 },
 "nbformat": 4,
 "nbformat_minor": 1
}
