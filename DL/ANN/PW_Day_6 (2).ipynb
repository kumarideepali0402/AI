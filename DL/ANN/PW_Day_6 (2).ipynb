{
  "cells": [
    {
      "cell_type": "code",
      "execution_count": 3,
      "metadata": {
        "id": "SStAMR_lH8Nx"
      },
      "outputs": [],
      "source": [
        "# Import packasges numpy,pandas,standard scaler,model_selection,matplotlib,sklearn.preprocess labelencoder\n",
        "\n",
        "import numpy as np\n",
        "import pandas as pd\n",
        "from sklearn.preprocessing import StandardScaler\n",
        "from sklearn.model_selection import train_test_split\n",
        "import matplotlib.pyplot as plt\n",
        "from sklearn.preprocessing import LabelEncoder\n"
      ]
    },
    {
      "cell_type": "code",
      "execution_count": 4,
      "metadata": {
        "id": "7U6k0QlfIzOy"
      },
      "outputs": [],
      "source": [
        "# import data csv\n",
        "\n",
        "df=pd.read_csv(r\"CustomerChurning.csv\")"
      ]
    },
    {
      "cell_type": "code",
      "execution_count": 5,
      "metadata": {
        "colab": {
          "base_uri": "https://localhost:8080/",
          "height": 443
        },
        "id": "sowcXb40I5Mw",
        "outputId": "f5d44078-a6fe-4586-8619-b90b485a7ff6"
      },
      "outputs": [
        {
          "data": {
            "text/html": [
              "<div>\n",
              "<style scoped>\n",
              "    .dataframe tbody tr th:only-of-type {\n",
              "        vertical-align: middle;\n",
              "    }\n",
              "\n",
              "    .dataframe tbody tr th {\n",
              "        vertical-align: top;\n",
              "    }\n",
              "\n",
              "    .dataframe thead th {\n",
              "        text-align: right;\n",
              "    }\n",
              "</style>\n",
              "<table border=\"1\" class=\"dataframe\">\n",
              "  <thead>\n",
              "    <tr style=\"text-align: right;\">\n",
              "      <th></th>\n",
              "      <th>RowNumber</th>\n",
              "      <th>CustomerId</th>\n",
              "      <th>Surname</th>\n",
              "      <th>CreditScore</th>\n",
              "      <th>Geography</th>\n",
              "      <th>Gender</th>\n",
              "      <th>Age</th>\n",
              "      <th>Tenure</th>\n",
              "      <th>Balance</th>\n",
              "      <th>NumOfProducts</th>\n",
              "      <th>HasCrCard</th>\n",
              "      <th>IsActiveMember</th>\n",
              "      <th>EstimatedSalary</th>\n",
              "      <th>Exited</th>\n",
              "    </tr>\n",
              "  </thead>\n",
              "  <tbody>\n",
              "    <tr>\n",
              "      <th>0</th>\n",
              "      <td>1</td>\n",
              "      <td>15634602</td>\n",
              "      <td>Hargrave</td>\n",
              "      <td>619</td>\n",
              "      <td>France</td>\n",
              "      <td>Female</td>\n",
              "      <td>42</td>\n",
              "      <td>2</td>\n",
              "      <td>0.00</td>\n",
              "      <td>1</td>\n",
              "      <td>1</td>\n",
              "      <td>1</td>\n",
              "      <td>101348.88</td>\n",
              "      <td>1</td>\n",
              "    </tr>\n",
              "    <tr>\n",
              "      <th>1</th>\n",
              "      <td>2</td>\n",
              "      <td>15647311</td>\n",
              "      <td>Hill</td>\n",
              "      <td>608</td>\n",
              "      <td>Spain</td>\n",
              "      <td>Female</td>\n",
              "      <td>41</td>\n",
              "      <td>1</td>\n",
              "      <td>83807.86</td>\n",
              "      <td>1</td>\n",
              "      <td>0</td>\n",
              "      <td>1</td>\n",
              "      <td>112542.58</td>\n",
              "      <td>0</td>\n",
              "    </tr>\n",
              "    <tr>\n",
              "      <th>2</th>\n",
              "      <td>3</td>\n",
              "      <td>15619304</td>\n",
              "      <td>Onio</td>\n",
              "      <td>502</td>\n",
              "      <td>France</td>\n",
              "      <td>Female</td>\n",
              "      <td>42</td>\n",
              "      <td>8</td>\n",
              "      <td>159660.80</td>\n",
              "      <td>3</td>\n",
              "      <td>1</td>\n",
              "      <td>0</td>\n",
              "      <td>113931.57</td>\n",
              "      <td>1</td>\n",
              "    </tr>\n",
              "    <tr>\n",
              "      <th>3</th>\n",
              "      <td>4</td>\n",
              "      <td>15701354</td>\n",
              "      <td>Boni</td>\n",
              "      <td>699</td>\n",
              "      <td>France</td>\n",
              "      <td>Female</td>\n",
              "      <td>39</td>\n",
              "      <td>1</td>\n",
              "      <td>0.00</td>\n",
              "      <td>2</td>\n",
              "      <td>0</td>\n",
              "      <td>0</td>\n",
              "      <td>93826.63</td>\n",
              "      <td>0</td>\n",
              "    </tr>\n",
              "    <tr>\n",
              "      <th>4</th>\n",
              "      <td>5</td>\n",
              "      <td>15737888</td>\n",
              "      <td>Mitchell</td>\n",
              "      <td>850</td>\n",
              "      <td>Spain</td>\n",
              "      <td>Female</td>\n",
              "      <td>43</td>\n",
              "      <td>2</td>\n",
              "      <td>125510.82</td>\n",
              "      <td>1</td>\n",
              "      <td>1</td>\n",
              "      <td>1</td>\n",
              "      <td>79084.10</td>\n",
              "      <td>0</td>\n",
              "    </tr>\n",
              "    <tr>\n",
              "      <th>...</th>\n",
              "      <td>...</td>\n",
              "      <td>...</td>\n",
              "      <td>...</td>\n",
              "      <td>...</td>\n",
              "      <td>...</td>\n",
              "      <td>...</td>\n",
              "      <td>...</td>\n",
              "      <td>...</td>\n",
              "      <td>...</td>\n",
              "      <td>...</td>\n",
              "      <td>...</td>\n",
              "      <td>...</td>\n",
              "      <td>...</td>\n",
              "      <td>...</td>\n",
              "    </tr>\n",
              "    <tr>\n",
              "      <th>9995</th>\n",
              "      <td>9996</td>\n",
              "      <td>15606229</td>\n",
              "      <td>Obijiaku</td>\n",
              "      <td>771</td>\n",
              "      <td>France</td>\n",
              "      <td>Male</td>\n",
              "      <td>39</td>\n",
              "      <td>5</td>\n",
              "      <td>0.00</td>\n",
              "      <td>2</td>\n",
              "      <td>1</td>\n",
              "      <td>0</td>\n",
              "      <td>96270.64</td>\n",
              "      <td>0</td>\n",
              "    </tr>\n",
              "    <tr>\n",
              "      <th>9996</th>\n",
              "      <td>9997</td>\n",
              "      <td>15569892</td>\n",
              "      <td>Johnstone</td>\n",
              "      <td>516</td>\n",
              "      <td>France</td>\n",
              "      <td>Male</td>\n",
              "      <td>35</td>\n",
              "      <td>10</td>\n",
              "      <td>57369.61</td>\n",
              "      <td>1</td>\n",
              "      <td>1</td>\n",
              "      <td>1</td>\n",
              "      <td>101699.77</td>\n",
              "      <td>0</td>\n",
              "    </tr>\n",
              "    <tr>\n",
              "      <th>9997</th>\n",
              "      <td>9998</td>\n",
              "      <td>15584532</td>\n",
              "      <td>Liu</td>\n",
              "      <td>709</td>\n",
              "      <td>France</td>\n",
              "      <td>Female</td>\n",
              "      <td>36</td>\n",
              "      <td>7</td>\n",
              "      <td>0.00</td>\n",
              "      <td>1</td>\n",
              "      <td>0</td>\n",
              "      <td>1</td>\n",
              "      <td>42085.58</td>\n",
              "      <td>1</td>\n",
              "    </tr>\n",
              "    <tr>\n",
              "      <th>9998</th>\n",
              "      <td>9999</td>\n",
              "      <td>15682355</td>\n",
              "      <td>Sabbatini</td>\n",
              "      <td>772</td>\n",
              "      <td>Germany</td>\n",
              "      <td>Male</td>\n",
              "      <td>42</td>\n",
              "      <td>3</td>\n",
              "      <td>75075.31</td>\n",
              "      <td>2</td>\n",
              "      <td>1</td>\n",
              "      <td>0</td>\n",
              "      <td>92888.52</td>\n",
              "      <td>1</td>\n",
              "    </tr>\n",
              "    <tr>\n",
              "      <th>9999</th>\n",
              "      <td>10000</td>\n",
              "      <td>15628319</td>\n",
              "      <td>Walker</td>\n",
              "      <td>792</td>\n",
              "      <td>France</td>\n",
              "      <td>Female</td>\n",
              "      <td>28</td>\n",
              "      <td>4</td>\n",
              "      <td>130142.79</td>\n",
              "      <td>1</td>\n",
              "      <td>1</td>\n",
              "      <td>0</td>\n",
              "      <td>38190.78</td>\n",
              "      <td>0</td>\n",
              "    </tr>\n",
              "  </tbody>\n",
              "</table>\n",
              "<p>10000 rows × 14 columns</p>\n",
              "</div>"
            ],
            "text/plain": [
              "      RowNumber  CustomerId    Surname  CreditScore Geography  Gender  Age  \\\n",
              "0             1    15634602   Hargrave          619    France  Female   42   \n",
              "1             2    15647311       Hill          608     Spain  Female   41   \n",
              "2             3    15619304       Onio          502    France  Female   42   \n",
              "3             4    15701354       Boni          699    France  Female   39   \n",
              "4             5    15737888   Mitchell          850     Spain  Female   43   \n",
              "...         ...         ...        ...          ...       ...     ...  ...   \n",
              "9995       9996    15606229   Obijiaku          771    France    Male   39   \n",
              "9996       9997    15569892  Johnstone          516    France    Male   35   \n",
              "9997       9998    15584532        Liu          709    France  Female   36   \n",
              "9998       9999    15682355  Sabbatini          772   Germany    Male   42   \n",
              "9999      10000    15628319     Walker          792    France  Female   28   \n",
              "\n",
              "      Tenure    Balance  NumOfProducts  HasCrCard  IsActiveMember  \\\n",
              "0          2       0.00              1          1               1   \n",
              "1          1   83807.86              1          0               1   \n",
              "2          8  159660.80              3          1               0   \n",
              "3          1       0.00              2          0               0   \n",
              "4          2  125510.82              1          1               1   \n",
              "...      ...        ...            ...        ...             ...   \n",
              "9995       5       0.00              2          1               0   \n",
              "9996      10   57369.61              1          1               1   \n",
              "9997       7       0.00              1          0               1   \n",
              "9998       3   75075.31              2          1               0   \n",
              "9999       4  130142.79              1          1               0   \n",
              "\n",
              "      EstimatedSalary  Exited  \n",
              "0           101348.88       1  \n",
              "1           112542.58       0  \n",
              "2           113931.57       1  \n",
              "3            93826.63       0  \n",
              "4            79084.10       0  \n",
              "...               ...     ...  \n",
              "9995         96270.64       0  \n",
              "9996        101699.77       0  \n",
              "9997         42085.58       1  \n",
              "9998         92888.52       1  \n",
              "9999         38190.78       0  \n",
              "\n",
              "[10000 rows x 14 columns]"
            ]
          },
          "execution_count": 5,
          "metadata": {},
          "output_type": "execute_result"
        }
      ],
      "source": [
        "df"
      ]
    },
    {
      "cell_type": "code",
      "execution_count": 6,
      "metadata": {
        "id": "YmgjI-McI68G"
      },
      "outputs": [],
      "source": [
        "# drop irrelevant columns                                                    df.drop(lbls=[3],axs=1)\n",
        "\n",
        "df=df.drop([\"RowNumber\",\"CustomerId\",\"Surname\"],axis=1)"
      ]
    },
    {
      "cell_type": "code",
      "execution_count": 7,
      "metadata": {
        "colab": {
          "base_uri": "https://localhost:8080/"
        },
        "id": "W-BcY9NBZENn",
        "outputId": "b5e80c59-1b08-46a8-cf96-6db51daf7e74"
      },
      "outputs": [
        {
          "data": {
            "text/plain": [
              "Index(['CreditScore', 'Geography', 'Gender', 'Age', 'Tenure', 'Balance',\n",
              "       'NumOfProducts', 'HasCrCard', 'IsActiveMember', 'EstimatedSalary',\n",
              "       'Exited'],\n",
              "      dtype='object')"
            ]
          },
          "execution_count": 7,
          "metadata": {},
          "output_type": "execute_result"
        }
      ],
      "source": [
        "df.columns"
      ]
    },
    {
      "cell_type": "code",
      "execution_count": 8,
      "metadata": {
        "id": "CTiIinOOJLJW"
      },
      "outputs": [],
      "source": [
        "# Label encoding of geo,gender                   encd=lblEnc(),df[]=encode.f_t(df[])\n",
        "\n",
        "encode=LabelEncoder()\n",
        "df[\"Geography\"]=encode.fit_transform(df[\"Geography\"])\n",
        "df[\"Gender\"]=encode.fit_transform(df[\"Gender\"])\n"
      ]
    },
    {
      "cell_type": "code",
      "execution_count": 9,
      "metadata": {
        "id": "vwzFXbJuKOPq"
      },
      "outputs": [],
      "source": [
        "# dependent and independent variable                                                               y=df[exit] x=df.drop(,ax=1)\n",
        "\n",
        "x=df.drop([\"Exited\"],axis=1)\n",
        "y=df[\"Exited\"]"
      ]
    },
    {
      "cell_type": "code",
      "execution_count": 10,
      "metadata": {
        "id": "ef01fC9OKduf"
      },
      "outputs": [],
      "source": [
        "# Stnd Scaler                                                                                            sc=SS() x=sc.f_t()\n",
        "sc=StandardScaler()\n",
        "x=sc.fit_transform(x)\n",
        "\n"
      ]
    },
    {
      "cell_type": "code",
      "execution_count": 11,
      "metadata": {
        "id": "T36QITERK7Rq"
      },
      "outputs": [],
      "source": [
        "# split train and test\n",
        "x_train,x_test,y_train,y_test=train_test_split(x,y,test_size=0.2,random_state=42)"
      ]
    },
    {
      "cell_type": "code",
      "execution_count": 12,
      "metadata": {
        "colab": {
          "base_uri": "https://localhost:8080/"
        },
        "id": "LDa2iyBCLC5a",
        "outputId": "108bbb32-0b3a-44de-8d3d-d0b4e237a91f"
      },
      "outputs": [
        {
          "data": {
            "text/plain": [
              "((8000, 10), (2000, 10), (8000,), (2000,))"
            ]
          },
          "execution_count": 12,
          "metadata": {},
          "output_type": "execute_result"
        }
      ],
      "source": [
        "#check shape  n*m not m*n\n",
        "x_train.shape,x_test.shape,y_train.shape,y_test.shape"
      ]
    },
    {
      "cell_type": "code",
      "execution_count": 13,
      "metadata": {
        "id": "wOZTCHl5LIbH"
      },
      "outputs": [],
      "source": [
        "#Transpose x_train and x_test                                             xt=xt.T\n",
        "\n",
        "x_train=x_train.T\n",
        "x_test=x_test.T\n"
      ]
    },
    {
      "cell_type": "code",
      "execution_count": 14,
      "metadata": {
        "colab": {
          "base_uri": "https://localhost:8080/"
        },
        "id": "1-IHojryZ3_T",
        "outputId": "d2faf7b3-8671-4c0f-855a-5153f7415c45"
      },
      "outputs": [
        {
          "data": {
            "text/plain": [
              "(10, 8000)"
            ]
          },
          "execution_count": 14,
          "metadata": {},
          "output_type": "execute_result"
        }
      ],
      "source": [
        "x_train.shape"
      ]
    },
    {
      "cell_type": "code",
      "execution_count": 15,
      "metadata": {
        "id": "HhcHnua1LQoB"
      },
      "outputs": [],
      "source": [
        "# Reshape Y_train and Y_test                                           yt=yt.vls.rsp(-2,2)\n",
        "\n",
        "y_train=y_train.values.reshape(1,-1)\n",
        "y_test=y_test.values.reshape(1,-1)"
      ]
    },
    {
      "cell_type": "code",
      "execution_count": 16,
      "metadata": {
        "id": "Ye6V87KLLeuD"
      },
      "outputs": [],
      "source": [
        "# Transpose yt\n",
        "\n",
        "y_train=y_train.T\n",
        "y_test=y_test.T"
      ]
    },
    {
      "cell_type": "code",
      "execution_count": 17,
      "metadata": {
        "colab": {
          "base_uri": "https://localhost:8080/"
        },
        "id": "G0KxZcpyLlwH",
        "outputId": "e1169c12-7fa2-4dc0-e705-e015473a1b41"
      },
      "outputs": [
        {
          "data": {
            "text/plain": [
              "((10, 8000), (10, 2000), (8000, 1), (2000, 1))"
            ]
          },
          "execution_count": 17,
          "metadata": {},
          "output_type": "execute_result"
        }
      ],
      "source": [
        "#check shape  n*m not m*n\n",
        "\n",
        "x_train.shape,x_test.shape,y_train.shape,y_test.shape"
      ]
    },
    {
      "cell_type": "code",
      "execution_count": 18,
      "metadata": {
        "id": "4Xk8QfaLLniK"
      },
      "outputs": [],
      "source": [
        "# def activation functions tnh(x)=np.tnh(x) rl=np.max(0,x) sft=np.exp(x)/np.sum(np.exp(x),axs=0) ,sig=1/(1+np.exp(-x))\n",
        "\n",
        "\n",
        "def tanh(x):\n",
        "  return np.tanh(x)\n",
        "\n",
        "def relu(x):\n",
        "  return np.maximum(0,x)\n",
        "\n",
        "def sigmoid(x):\n",
        "  return 1/(1+np.exp(-x))\n"
      ]
    },
    {
      "cell_type": "code",
      "execution_count": 19,
      "metadata": {
        "id": "EBzYManlOLqF"
      },
      "outputs": [],
      "source": [
        "# derivative of activation  dr_tnh(x)=1-np.tnh(x)**2  dr_rl x[x<=0]=0x[x>0]=1 rtr x dr_Sg =sigmoid(x)*(1-sig(x))\n",
        "\n",
        "def derivative_tanh(x):\n",
        "  return 1-np.tanh(x)**2\n",
        "\n",
        "def derivative_relu(x):\n",
        "  x[x<=0]=0\n",
        "  x[x>0]=1\n",
        "  return x\n",
        "\n",
        "def derivative_sigmoid(x):\n",
        "  return sigmoid(x)*(1-sigmoid(x))\n",
        "\n"
      ]
    },
    {
      "cell_type": "code",
      "execution_count": 20,
      "metadata": {
        "id": "J8AE8bOqO3QM"
      },
      "outputs": [],
      "source": [
        "# Initialise Parameter                                              init_prm(n_x,n_h,n_y) w1=np.rndm.rdn(nh,nx)  b1=np.zr((nh,1)) w2= b1=np.zeros((n_y,1)) prms={\"w1\":w1} retrn prms\n",
        "\n",
        "def initialise_parameters(n_x,n_h,n_y):\n",
        "\n",
        "  w1=np.random.randn(n_h,n_x)*0.01  #(n1,n0)\n",
        "  b1=np.random.randn(n_h,1)\n",
        "\n",
        "  w2=np.random.randn(n_y,n_h)*0.01\n",
        "  b2=np.random.randn(n_y,1)\n",
        "\n",
        "  parameters={\"w1\":w1,\"b1\":b1,\"w2\":w2,\"b2\":b2}\n",
        "  return parameters\n",
        "\n"
      ]
    },
    {
      "cell_type": "code",
      "execution_count": 21,
      "metadata": {
        "id": "ObvRfC2yhMY7"
      },
      "outputs": [],
      "source": [
        "#Initialise with Zero\n"
      ]
    },
    {
      "cell_type": "code",
      "execution_count": 22,
      "metadata": {
        "id": "p-iZiHG4hPrh"
      },
      "outputs": [],
      "source": [
        "#Initialise with 0.5\n",
        "\n"
      ]
    },
    {
      "cell_type": "code",
      "execution_count": 23,
      "metadata": {
        "id": "XELq4emmhQjw"
      },
      "outputs": [],
      "source": [
        "# Initialise weights with very small random and Bias as 0\n",
        "\n",
        "\n",
        "\n",
        "\n"
      ]
    },
    {
      "cell_type": "code",
      "execution_count": 24,
      "metadata": {
        "id": "VuFtDeDfP7Mj"
      },
      "outputs": [],
      "source": [
        "#frwrd propogation                                                             fp(x,prms) call the dict w1=prms[\"w1\"],b1=prms[b1]  z1=np.dot(w1,x)+b1 a1=rl(z1) z2=np.dot(w2,a1)+b1 a2=sig(z2) frwrd_cache={z1:z1,a1:a1} rtrn frwrd cache\n",
        "\n",
        "def forward_propogation(x,parameters):\n",
        "  w1=parameters[\"w1\"]\n",
        "  b1=parameters[\"b1\"]\n",
        "  w2=parameters[\"w2\"]\n",
        "  b2=parameters[\"b2\"]\n",
        "\n",
        "  z1=np.dot(w1,x)+b1\n",
        "  a1=relu(z1)\n",
        "\n",
        "  z2=np.dot(w2,a1)+b2\n",
        "  a2=sigmoid(z2)\n",
        "\n",
        "  forward_cache={\"z1\":z1,\"a1\":a1,\"z2\":z2,\"a2\":a2}\n",
        "\n",
        "  return forward_cache\n",
        "\n"
      ]
    },
    {
      "cell_type": "code",
      "execution_count": 25,
      "metadata": {
        "id": "iq76hp2cQ8Vx"
      },
      "outputs": [],
      "source": [
        "# cost function                                                      bce(a2,y) m=y.shape[1] cost=-(1/m)*np.sum(y*np.log(a2)+(1-y) return cost\n",
        "\n",
        "def binary_cross_entropy(a2,y):\n",
        "  m=y.shape[1]\n",
        "  cost=-(1/m)*np.sum(y*np.log(a2)+(1-y)*np.log(1-a2))\n",
        "  return cost\n"
      ]
    },
    {
      "cell_type": "code",
      "execution_count": 26,
      "metadata": {
        "id": "PsKwvgnYQ8SV"
      },
      "outputs": [],
      "source": [
        "# Back propogation                                      bp(prms,frwcac,x,y) all params w1.b1,w2,b2,a1,a2 m=x.shape[1] dz2=a2-y dw2=np.dot(dz2,a1.T) db2=np.sum(dz2,axs=1,kd=Tr)/m dz1=np.dot(w2.T,dz2).der_rl(a1) dw1=np.dot(dz1.x.T)/m  db1=np.sm(dz1,axs=1,kd=Tr)/m grads={dw1:dw1}"
      ]
    },
    {
      "cell_type": "code",
      "execution_count": 27,
      "metadata": {
        "id": "Gr5czOKBSn1M"
      },
      "outputs": [],
      "source": [
        "def back_propogation(parameters,forward_cache,x,y):\n",
        "  w1=parameters[\"w1\"]\n",
        "  b1=parameters[\"b1\"]\n",
        "  w2=parameters[\"w2\"]\n",
        "  b2=parameters[\"b2\"]\n",
        "\n",
        "  a1=forward_cache[\"a1\"]\n",
        "  a2=forward_cache[\"a2\"]\n",
        "\n",
        "  m=x.shape[1]\n",
        "\n",
        "  dz2=a2-y\n",
        "  dw2=np.dot(dz2,a1.T)/m\n",
        "  db2=np.sum(dz2,axis=1,keepdims=True)/m\n",
        "\n",
        "  dz1=np.dot(w2.T,dz2)*derivative_relu(a1)\n",
        "  dw1=np.dot(dz1,x.T)/m\n",
        "  db1=np.sum(dz1,axis=1,keepdims=True)/m\n",
        "\n",
        "  grads={\"dw1\":dw1,\"db1\":db1,\"dw2\":dw2,\"db2\":db2}\n",
        "  return grads\n",
        "\n"
      ]
    },
    {
      "cell_type": "code",
      "execution_count": 28,
      "metadata": {
        "id": "ZpRy8RwlS8FL"
      },
      "outputs": [],
      "source": [
        "\n",
        "#np.sum(a,axis=1,keepdims=True)\n",
        "\n"
      ]
    },
    {
      "cell_type": "code",
      "execution_count": 29,
      "metadata": {
        "id": "E9HI88U1TUZg"
      },
      "outputs": [],
      "source": [
        "# update params                                                 call all dict w1,b1,dw1,dw2 w1=w1-learning_rate*dw1 b1=b1-learninrate*db1 params:{w1:w2,b1:b2}\n",
        "def update_parameters(parameters,grads,learning_rate):\n",
        "  w1=parameters[\"w1\"]\n",
        "  b1=parameters[\"b1\"]\n",
        "  w2=parameters[\"w2\"]\n",
        "  b2=parameters[\"b2\"]\n",
        "\n",
        "  dw1=grads[\"dw1\"]\n",
        "  db1=grads[\"db1\"]\n",
        "  dw2=grads[\"dw2\"]\n",
        "  db2=grads[\"db2\"]\n",
        "\n",
        "  w1=w1-learning_rate*dw1\n",
        "  b1=b1-learning_rate*db1\n",
        "  w2=w2-learning_rate*dw2\n",
        "  b2=b2-learning_rate*db2\n",
        "\n",
        "  parameters={\"w1\":w1,\"b1\":b1,\"w2\":w2,\"b2\":b2}\n",
        "  return parameters\n"
      ]
    },
    {
      "cell_type": "code",
      "execution_count": 30,
      "metadata": {
        "id": "GkcwDOehQ8HT"
      },
      "outputs": [],
      "source": [
        "# Complete model                                            mdl(x,y,n_h,lr,iter) n_x=x.shp[0] n_y=y.shp[0] cost_list=[] parameter=init_prarams(n_x,n_h,n_y) for i in range(iter): frwrd cache=forward_prop(x,prm), cost=bce(frwrdcac[a2],y) grad=bp(pms,fc,x,y) prms=upd_prms(prms,grd,lrate) cost_list.appnd(cost) if(i%(iter/10)==0): print(\"cost after ieteration %i :%f \"%(i,cost)) rtrn params cost_list\n",
        "\n",
        "\n",
        "def model(x,y,n_h,learning_rate,iterations):\n",
        "  n_x=x.shape[0]\n",
        "  n_y=y.shape[0]\n",
        "  cost_list=[]\n",
        "  parameters=initialise_parameters(n_x,n_h,n_y)\n",
        "  for i in range(iterations):\n",
        "    forward_cache=forward_propogation(x,parameters)\n",
        "    cost=binary_cross_entropy(forward_cache[\"a2\"],y)\n",
        "    grads=back_propogation(parameters,forward_cache,x,y)\n",
        "    parameters=update_parameters(parameters,grads,learning_rate)\n",
        "    cost_list.append(cost)\n",
        "    if(i%10==0):\n",
        "      print(\"cost after ieteration %i :%f \"%(i,cost))\n",
        "  return parameters,cost_list\n",
        "\n",
        "\n"
      ]
    },
    {
      "cell_type": "code",
      "execution_count": 31,
      "metadata": {
        "colab": {
          "base_uri": "https://localhost:8080/"
        },
        "id": "vHt-sCAgOpHr",
        "outputId": "cdb18715-e9f6-48b3-dfc2-afe7e16238d6"
      },
      "outputs": [
        {
          "name": "stdout",
          "output_type": "stream",
          "text": [
            "cost after ieteration 0 :51813487.238082 \n"
          ]
        },
        {
          "name": "stderr",
          "output_type": "stream",
          "text": [
            "C:\\Users\\deepa\\AppData\\Local\\Temp\\ipykernel_904\\1366403920.py:5: RuntimeWarning: divide by zero encountered in log\n",
            "  cost=-(1/m)*np.sum(y*np.log(a2)+(1-y)*np.log(1-a2))\n",
            "C:\\Users\\deepa\\AppData\\Local\\Temp\\ipykernel_904\\1366403920.py:5: RuntimeWarning: invalid value encountered in multiply\n",
            "  cost=-(1/m)*np.sum(y*np.log(a2)+(1-y)*np.log(1-a2))\n"
          ]
        },
        {
          "name": "stdout",
          "output_type": "stream",
          "text": [
            "cost after ieteration 10 :nan \n",
            "cost after ieteration 20 :nan \n",
            "cost after ieteration 30 :nan \n",
            "cost after ieteration 40 :nan \n",
            "cost after ieteration 50 :nan \n",
            "cost after ieteration 60 :nan \n",
            "cost after ieteration 70 :nan \n",
            "cost after ieteration 80 :nan \n",
            "cost after ieteration 90 :nan \n"
          ]
        }
      ],
      "source": [
        "# Train the mopdel                               iter= ,n_h= , pmt,cost_list=model(x,y,n_h,lr,iter)\n",
        "\n",
        "\n",
        "\n",
        "iterations=100\n",
        "n_h=20\n",
        "\n",
        "parameters,cost_list=model(x_train,y_train,n_h,0.1,iterations)\n"
      ]
    },
    {
      "cell_type": "code",
      "execution_count": 32,
      "metadata": {
        "colab": {
          "base_uri": "https://localhost:8080/",
          "height": 449
        },
        "id": "9EZdloMdWrTV",
        "outputId": "b2224064-7000-4081-81db-bc4c90876319"
      },
      "outputs": [
        {
          "data": {
            "image/png": "[encoded data removed]",
            "text/plain": [
              "<Figure size 640x480 with 1 Axes>"
            ]
          },
          "metadata": {},
          "output_type": "display_data"
        }
      ],
      "source": [
        "#  Cost and iteration graph                                        t=np.arn(iter) plt.plot(t,cst_list) plt.\n",
        "\n",
        "t=np.arange(iterations)\n",
        "plt.plot(t,cost_list)\n",
        "plt.xlabel(\"iterations\")\n",
        "plt.ylabel(\"cost\")\n",
        "plt.show()"
      ]
    },
    {
      "cell_type": "code",
      "execution_count": 33,
      "metadata": {
        "id": "YVhuMqs1XXSC"
      },
      "outputs": [],
      "source": [
        "#  Accuracy                               def acc (x,y,prms): frwrd_cach=frwrd_prop(x_prms) y_pred=frw cac[\"a2\"]>=0.5)astype(int) acc=(y_pred==y).mean() return acc train acc=acc[x_train,y_train,parameters] test_acc=acc[x_test,y_test,params]"
      ]
    },
    {
      "cell_type": "code",
      "execution_count": 34,
      "metadata": {
        "colab": {
          "base_uri": "https://localhost:8080/"
        },
        "id": "PP5iAtnOfa65",
        "outputId": "36680812-04d9-4c32-bfb0-5696f60e6ed7"
      },
      "outputs": [
        {
          "name": "stdout",
          "output_type": "stream",
          "text": [
            "train acc 1.0\n"
          ]
        },
        {
          "ename": "ValueError",
          "evalue": "operands could not be broadcast together with shapes (8000,2000) (2000,1) ",
          "output_type": "error",
          "traceback": [
            "\u001b[1;31m---------------------------------------------------------------------------\u001b[0m",
            "\u001b[1;31mValueError\u001b[0m                                Traceback (most recent call last)",
            "Cell \u001b[1;32mIn[34], line 8\u001b[0m\n\u001b[0;32m      5\u001b[0m   \u001b[38;5;28;01mreturn\u001b[39;00m acc\n\u001b[0;32m      7\u001b[0m \u001b[38;5;28mprint\u001b[39m(\u001b[38;5;124m\"\u001b[39m\u001b[38;5;124mtrain acc\u001b[39m\u001b[38;5;124m\"\u001b[39m,accuracy(x_train,y_train,parameters))\n\u001b[1;32m----> 8\u001b[0m \u001b[38;5;28mprint\u001b[39m(\u001b[38;5;124m\"\u001b[39m\u001b[38;5;124mtest acc\u001b[39m\u001b[38;5;124m\"\u001b[39m,accuracy(x_test,y_test,parameters))\n",
            "Cell \u001b[1;32mIn[34], line 4\u001b[0m, in \u001b[0;36maccuracy\u001b[1;34m(x, y, parameters)\u001b[0m\n\u001b[0;32m      2\u001b[0m forward_cache\u001b[38;5;241m=\u001b[39mforward_propogation(x,parameters)\n\u001b[0;32m      3\u001b[0m y_pred\u001b[38;5;241m=\u001b[39mforward_cache[\u001b[38;5;124m\"\u001b[39m\u001b[38;5;124ma2\u001b[39m\u001b[38;5;124m\"\u001b[39m]\u001b[38;5;241m>\u001b[39m\u001b[38;5;241m=\u001b[39m\u001b[38;5;241m0.5\u001b[39m\n\u001b[1;32m----> 4\u001b[0m acc\u001b[38;5;241m=\u001b[39m(y_pred\u001b[38;5;241m==\u001b[39my)\u001b[38;5;241m.\u001b[39mmean()\n\u001b[0;32m      5\u001b[0m \u001b[38;5;28;01mreturn\u001b[39;00m acc\n",
            "\u001b[1;31mValueError\u001b[0m: operands could not be broadcast together with shapes (8000,2000) (2000,1) "
          ]
        }
      ],
      "source": [
        "def accuracy(x,y,parameters):\n",
        "  forward_cache=forward_propogation(x,parameters)\n",
        "  y_pred=forward_cache[\"a2\"]>=0.5\n",
        "  acc=(y_pred==y).mean()\n",
        "  return acc\n",
        "\n",
        "print(\"train acc\",accuracy(x_train,y_train,parameters))\n",
        "print(\"test acc\",accuracy(x_test,y_test,parameters))\n",
        "\n"
      ]
    },
    {
      "cell_type": "code",
      "execution_count": null,
      "metadata": {
        "id": "qH-VBg49jcQy"
      },
      "outputs": [],
      "source": []
    },
    {
      "cell_type": "code",
      "execution_count": null,
      "metadata": {
        "id": "iS0sCLDQW8WP"
      },
      "outputs": [],
      "source": [
        "\n",
        "# Print initial weights\n",
        "  #print(\"Initial Weights:\")\n",
        "  #print(\"w1:\", parameters[\"w1\"])\n",
        "  #print(\"w2:\", parameters[\"w2\"])\n",
        "\n",
        "\n",
        "  #print(f\"Iteration {i}:\")\n",
        "  #print(\"w1:\", parameters[\"w1\"])  # Print weights of the first layer\n",
        "  #print(\"w2:\", parameters[\"w2\"]) # Print updated weights of the second layer"
      ]
    }
  ],
  "metadata": {
    "colab": {
      "provenance": []
    },
    "kernelspec": {
      "display_name": "Python 3",
      "name": "python3"
    },
    "language_info": {
      "codemirror_mode": {
        "name": "ipython",
        "version": 3
      },
      "file_extension": ".py",
      "mimetype": "text/x-python",
      "name": "python",
      "nbconvert_exporter": "python",
      "pygments_lexer": "ipython3",
      "version": "3.12.7"
    }
  },
  "nbformat": 4,
  "nbformat_minor": 0
}
